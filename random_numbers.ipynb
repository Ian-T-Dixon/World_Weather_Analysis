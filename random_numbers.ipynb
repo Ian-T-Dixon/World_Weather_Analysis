{
 "cells": [
  {
   "cell_type": "code",
   "execution_count": 16,
   "id": "fd3cd7ff-ae70-4495-a542-29a39fd9664c",
   "metadata": {},
   "outputs": [],
   "source": [
    "# Import the random module.\n",
    "import random\n",
    "\n",
    "# Import the NumPy module.\n",
    "import numpy as np\n",
    "\n",
    "# Import timeit.\n",
    "import timeit"
   ]
  },
  {
   "cell_type": "code",
   "execution_count": 2,
   "id": "0ce3ffa0-d1a7-4d24-9259-b0ad9c5ad5a0",
   "metadata": {},
   "outputs": [
    {
     "data": {
      "text/plain": [
       "6"
      ]
     },
     "execution_count": 2,
     "metadata": {},
     "output_type": "execute_result"
    }
   ],
   "source": [
    "random.randint(-90,90)"
   ]
  },
  {
   "cell_type": "code",
   "execution_count": 4,
   "id": "99b3fb50-c122-4613-bcb3-13a29cfaefaa",
   "metadata": {},
   "outputs": [
    {
     "data": {
      "text/plain": [
       "0.5422793070567866"
      ]
     },
     "execution_count": 4,
     "metadata": {},
     "output_type": "execute_result"
    }
   ],
   "source": [
    "random.random()"
   ]
  },
  {
   "cell_type": "code",
   "execution_count": 7,
   "id": "e3f4c541-0a31-4b16-977b-0de8313f6992",
   "metadata": {},
   "outputs": [
    {
     "data": {
      "text/plain": [
       "27.129449842865796"
      ]
     },
     "execution_count": 7,
     "metadata": {},
     "output_type": "execute_result"
    }
   ],
   "source": [
    "random_number = random.randint(-90,90) + random.random()\n",
    "random_number"
   ]
  },
  {
   "cell_type": "code",
   "execution_count": 9,
   "id": "365ee389-881e-44a7-a058-6da726fa1175",
   "metadata": {},
   "outputs": [
    {
     "data": {
      "text/plain": [
       "[75.2228397002882,\n",
       " 15.291202483954148,\n",
       " 0.682599518859885,\n",
       " -72.35987398756413,\n",
       " 50.23939484238745,\n",
       " 29.792621223153265,\n",
       " -85.3746263520304,\n",
       " 47.49075822966296,\n",
       " 81.52871971535515,\n",
       " 77.82289386770367]"
      ]
     },
     "execution_count": 9,
     "metadata": {},
     "output_type": "execute_result"
    }
   ],
   "source": [
    "x = 1\n",
    "latitudes = []\n",
    "while x < 11:\n",
    "    random_lat = random.randint(-90, 89) + random.random()\n",
    "    latitudes.append(random_lat)\n",
    "    x += 1\n",
    "    \n",
    "latitudes"
   ]
  },
  {
   "cell_type": "code",
   "execution_count": 10,
   "id": "1e3ef962-f4cf-41be-a3a9-486e6bfa0fd9",
   "metadata": {},
   "outputs": [
    {
     "data": {
      "text/plain": [
       "7"
      ]
     },
     "execution_count": 10,
     "metadata": {},
     "output_type": "execute_result"
    }
   ],
   "source": [
    "random.randrange(-90, 90, step=1)"
   ]
  },
  {
   "cell_type": "code",
   "execution_count": 11,
   "id": "192df47e-f015-41cb-a707-252ea5af76d9",
   "metadata": {},
   "outputs": [
    {
     "data": {
      "text/plain": [
       "33"
      ]
     },
     "execution_count": 11,
     "metadata": {},
     "output_type": "execute_result"
    }
   ],
   "source": [
    "random.randrange(-90, 90, step=3)"
   ]
  },
  {
   "cell_type": "code",
   "execution_count": 12,
   "id": "06db3bcb-3b25-47f5-8df7-892b17e20212",
   "metadata": {},
   "outputs": [
    {
     "data": {
      "text/plain": [
       "10.77676712322534"
      ]
     },
     "execution_count": 12,
     "metadata": {},
     "output_type": "execute_result"
    }
   ],
   "source": [
    "random.uniform(-90, 90)"
   ]
  },
  {
   "cell_type": "code",
   "execution_count": 14,
   "id": "48965bba-6c89-4618-ae9d-54143fbe8ebe",
   "metadata": {},
   "outputs": [
    {
     "data": {
      "text/plain": [
       "13.21831097220111"
      ]
     },
     "execution_count": 14,
     "metadata": {},
     "output_type": "execute_result"
    }
   ],
   "source": [
    "np.random.uniform(-90.000, 90.000)"
   ]
  },
  {
   "cell_type": "code",
   "execution_count": 15,
   "id": "dc9b3bbe-89dc-4fa9-99de-7d2996807f19",
   "metadata": {},
   "outputs": [
    {
     "data": {
      "text/plain": [
       "array([ 76.46285956,   4.22118749,  75.29789187, -32.41682107,\n",
       "        -6.61168779,  53.06138627, -51.40691478, -19.00105118,\n",
       "       -29.74464489, -19.84451263, -88.62306611, -70.42209675,\n",
       "        68.85699401, -28.99065599, -24.31938535, -20.72450623,\n",
       "       -85.71617596, -56.30686321,  89.05404539, -63.26024312,\n",
       "       -11.00017734, -34.36713315, -81.9981761 , -29.89261703,\n",
       "        22.21295083,   3.29219054,  24.78593468,   5.43622911,\n",
       "       -11.58643493,  18.01646277, -29.93270846,  41.8109971 ,\n",
       "       -82.93408374,  20.56959926,  83.43761725, -34.31832651,\n",
       "       -55.39783151,   3.78455657, -47.95521213,  18.59758271,\n",
       "        45.17153495,  75.35725831, -78.75087899, -35.50151708,\n",
       "         2.91755995,  71.29343173, -75.35566681,  88.92657208,\n",
       "        81.35204418, -13.69339161])"
      ]
     },
     "execution_count": 15,
     "metadata": {},
     "output_type": "execute_result"
    }
   ],
   "source": [
    "np.random.uniform(-90.000, 90.000, size=50)"
   ]
  },
  {
   "cell_type": "code",
   "execution_count": 17,
   "id": "e8a9456f-2af3-4351-9ea2-6376371f677f",
   "metadata": {},
   "outputs": [
    {
     "name": "stdout",
     "output_type": "stream",
     "text": [
      "12.8 µs ± 109 ns per loop (mean ± std. dev. of 7 runs, 100000 loops each)\n"
     ]
    }
   ],
   "source": [
    "%timeit np.random.uniform(-90.000, 90.000, size=1500)"
   ]
  },
  {
   "cell_type": "code",
   "execution_count": 20,
   "id": "dfa546ce-4f89-4ab7-a817-74367dc5aee8",
   "metadata": {},
   "outputs": [
    {
     "name": "stdout",
     "output_type": "stream",
     "text": [
      "1.57 ms ± 12.6 µs per loop (mean ± std. dev. of 7 runs, 1000 loops each)\n"
     ]
    }
   ],
   "source": [
    "def latitudes(size):\n",
    "    latitudes = [1500]\n",
    "    x = 0\n",
    "    while x < (size):\n",
    "        random_lat = random.randint(-90, 90) + random.random()\n",
    "        latitudes.append(random_lat)\n",
    "        x += 1\n",
    "    return latitudes\n",
    "# Call the function with 1500.\n",
    "%timeit latitudes(1500)"
   ]
  },
  {
   "cell_type": "code",
   "execution_count": null,
   "id": "bba92e2d-6c38-4ed7-bbaf-82f39118cd90",
   "metadata": {},
   "outputs": [],
   "source": []
  }
 ],
 "metadata": {
  "kernelspec": {
   "display_name": "PythonData",
   "language": "python",
   "name": "pythondata"
  },
  "language_info": {
   "codemirror_mode": {
    "name": "ipython",
    "version": 3
   },
   "file_extension": ".py",
   "mimetype": "text/x-python",
   "name": "python",
   "nbconvert_exporter": "python",
   "pygments_lexer": "ipython3",
   "version": "3.7.13"
  }
 },
 "nbformat": 4,
 "nbformat_minor": 5
}
