{
 "cells": [
  {
   "cell_type": "code",
   "execution_count": 1,
   "id": "fae093c5",
   "metadata": {},
   "outputs": [],
   "source": [
    "# Import the dependencies.\n",
    "import pandas as pd\n",
    "import gmaps\n",
    "import requests\n",
    "# Import the API key.\n",
    "from config import google_api_keys as g_key"
   ]
  },
  {
   "cell_type": "code",
   "execution_count": 2,
   "id": "bf69f64c",
   "metadata": {},
   "outputs": [],
   "source": [
    "# Configure gmaps to use your Google API key.\n",
    "gmaps.configure(api_key=g_key)"
   ]
  },
  {
   "cell_type": "code",
   "execution_count": 6,
   "id": "13ff6c8f",
   "metadata": {},
   "outputs": [
    {
     "data": {
      "text/plain": [
       "<module 'gmaps' from 'F:\\\\Anaconda3\\\\envs\\\\PythonData\\\\lib\\\\site-packages\\\\gmaps\\\\__init__.py'>"
      ]
     },
     "execution_count": 6,
     "metadata": {},
     "output_type": "execute_result"
    }
   ],
   "source": [
    "gmaps"
   ]
  },
  {
   "cell_type": "code",
   "execution_count": 7,
   "id": "275012ab",
   "metadata": {},
   "outputs": [
    {
     "data": {
      "application/vnd.jupyter.widget-view+json": {
       "model_id": "8aeab5967aec46d7be91684f606692c6",
       "version_major": 2,
       "version_minor": 0
      },
      "text/plain": [
       "Figure(layout=FigureLayout(height='420px'))"
      ]
     },
     "metadata": {},
     "output_type": "display_data"
    }
   ],
   "source": [
    "gmaps.figure()"
   ]
  },
  {
   "cell_type": "code",
   "execution_count": null,
   "id": "2f91aa02",
   "metadata": {},
   "outputs": [],
   "source": []
  }
 ],
 "metadata": {
  "kernelspec": {
   "display_name": "PythonData",
   "language": "python",
   "name": "pythondata"
  },
  "language_info": {
   "codemirror_mode": {
    "name": "ipython",
    "version": 3
   },
   "file_extension": ".py",
   "mimetype": "text/x-python",
   "name": "python",
   "nbconvert_exporter": "python",
   "pygments_lexer": "ipython3",
   "version": "3.7.13"
  }
 },
 "nbformat": 4,
 "nbformat_minor": 5
}
